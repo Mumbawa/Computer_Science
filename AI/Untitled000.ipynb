{
  "nbformat": 4,
  "nbformat_minor": 0,
  "metadata": {
    "colab": {
      "name": "Untitled0.ipynb",
      "provenance": [],
      "authorship_tag": "ABX9TyO0fBWeWm9vzCylRllOVKXh",
      "include_colab_link": true
    },
    "kernelspec": {
      "name": "python3",
      "display_name": "Python 3"
    }
  },
  "cells": [
    {
      "cell_type": "markdown",
      "metadata": {
        "id": "view-in-github",
        "colab_type": "text"
      },
      "source": [
        "<a href=\"https://colab.research.google.com/github/Mumbawa/Computer_Science/blob/main/AI/Untitled000.ipynb\" target=\"_parent\"><img src=\"https://colab.research.google.com/assets/colab-badge.svg\" alt=\"Open In Colab\"/></a>"
      ]
    },
    {
      "cell_type": "markdown",
      "metadata": {
        "id": "mQ14zkJd2s3S"
      },
      "source": [
        "<table align=\"left\">\r\n",
        "  <td>\r\n",
        "    <a target=\"_blank\" href=\"https://colab.research.google.com/github/Mumbawa/Computer_Science/blob/main/AI/Untitled0.ipynb\"><img src=\"https://www.tensorflow.org/images/colab_logo_32px.png\" />Run in Google Colab</a>\r\n",
        "  </td>\r\n",
        "</table>\r\n"
      ]
    },
    {
      "cell_type": "code",
      "metadata": {
        "colab": {
          "base_uri": "https://localhost:8080/"
        },
        "id": "X4kzhOKW9ebF",
        "outputId": "96a701fe-b82b-496c-b026-01ad9c623599"
      },
      "source": [
        "import numpy as np\r\n",
        "\r\n",
        "print ('jajaja')\r\n",
        "\r\n",
        "s = np.array(['1v','2g','3g','4v','5v','6g','7v','8g','9v','Dv'])\r\n",
        "\r\n",
        "outc = []\r\n",
        "\r\n",
        "for i in range(len(s)):\r\n",
        "    for j in range(len(s)):\r\n",
        "        outc.append(s[i] + '-' + s[j])\r\n",
        "\r\n",
        "cont = 0\r\n",
        "for i in outc:\r\n",
        "    if i[1] == 'v' and i[-1] == 'v':\r\n",
        "        cont = cont + 1\r\n",
        "        print(i,',',cont)\r\n",
        "\r\n",
        "# print(len(outc),cont)\r\n",
        "# print(outc)\r\n",
        "\r\n"
      ],
      "execution_count": 4,
      "outputs": [
        {
          "output_type": "stream",
          "text": [
            "jajaja\n",
            "1v-1v , 1\n",
            "1v-4v , 2\n",
            "1v-5v , 3\n",
            "1v-7v , 4\n",
            "1v-9v , 5\n",
            "1v-Dv , 6\n",
            "4v-1v , 7\n",
            "4v-4v , 8\n",
            "4v-5v , 9\n",
            "4v-7v , 10\n",
            "4v-9v , 11\n",
            "4v-Dv , 12\n",
            "5v-1v , 13\n",
            "5v-4v , 14\n",
            "5v-5v , 15\n",
            "5v-7v , 16\n",
            "5v-9v , 17\n",
            "5v-Dv , 18\n",
            "7v-1v , 19\n",
            "7v-4v , 20\n",
            "7v-5v , 21\n",
            "7v-7v , 22\n",
            "7v-9v , 23\n",
            "7v-Dv , 24\n",
            "9v-1v , 25\n",
            "9v-4v , 26\n",
            "9v-5v , 27\n",
            "9v-7v , 28\n",
            "9v-9v , 29\n",
            "9v-Dv , 30\n",
            "Dv-1v , 31\n",
            "Dv-4v , 32\n",
            "Dv-5v , 33\n",
            "Dv-7v , 34\n",
            "Dv-9v , 35\n",
            "Dv-Dv , 36\n"
          ],
          "name": "stdout"
        }
      ]
    },
    {
      "cell_type": "code",
      "metadata": {
        "colab": {
          "base_uri": "https://localhost:8080/"
        },
        "id": "s-Vg4bRVCAHw",
        "outputId": "c24629a4-f00a-4d87-e7e3-706b7d4536f2"
      },
      "source": [
        "cont = 0\r\n",
        "for i in outc:\r\n",
        "    if i[1] == 'v' and i[-1] == 'g':\r\n",
        "        cont = cont + 1\r\n",
        "        print(i,',',cont)\r\n",
        "    if i[1] == 'g' and i[-1] == 'v':\r\n",
        "        cont = cont + 1\r\n",
        "        print(i,',',cont)\r\n",
        "\r\n",
        "        "
      ],
      "execution_count": null,
      "outputs": [
        {
          "output_type": "stream",
          "text": [
            "1v-2g , 1\n",
            "1v-3g , 2\n",
            "1v-6g , 3\n",
            "1v-8g , 4\n",
            "2g-1v , 5\n",
            "2g-4v , 6\n",
            "2g-5v , 7\n",
            "2g-7v , 8\n",
            "2g-9v , 9\n",
            "2g-Dv , 10\n",
            "3g-1v , 11\n",
            "3g-4v , 12\n",
            "3g-5v , 13\n",
            "3g-7v , 14\n",
            "3g-9v , 15\n",
            "3g-Dv , 16\n",
            "4v-2g , 17\n",
            "4v-3g , 18\n",
            "4v-6g , 19\n",
            "4v-8g , 20\n",
            "5v-2g , 21\n",
            "5v-3g , 22\n",
            "5v-6g , 23\n",
            "5v-8g , 24\n",
            "6g-1v , 25\n",
            "6g-4v , 26\n",
            "6g-5v , 27\n",
            "6g-7v , 28\n",
            "6g-9v , 29\n",
            "6g-Dv , 30\n",
            "7v-2g , 31\n",
            "7v-3g , 32\n",
            "7v-6g , 33\n",
            "7v-8g , 34\n",
            "8g-1v , 35\n",
            "8g-4v , 36\n",
            "8g-5v , 37\n",
            "8g-7v , 38\n",
            "8g-9v , 39\n",
            "8g-Dv , 40\n",
            "9v-2g , 41\n",
            "9v-3g , 42\n",
            "9v-6g , 43\n",
            "9v-8g , 44\n",
            "Dv-2g , 45\n",
            "Dv-3g , 46\n",
            "Dv-6g , 47\n",
            "Dv-8g , 48\n"
          ],
          "name": "stdout"
        }
      ]
    },
    {
      "cell_type": "code",
      "metadata": {
        "colab": {
          "base_uri": "https://localhost:8080/"
        },
        "id": "vq41hao9E77A",
        "outputId": "1b5cc911-db91-4d2f-ad71-8b59981337cb"
      },
      "source": [
        "print(len(outc),len(set (outc)))\r\n"
      ],
      "execution_count": null,
      "outputs": [
        {
          "output_type": "stream",
          "text": [
            "100 100\n"
          ],
          "name": "stdout"
        }
      ]
    },
    {
      "cell_type": "code",
      "metadata": {
        "colab": {
          "base_uri": "https://localhost:8080/"
        },
        "id": "wwBJMgrIFH55",
        "outputId": "e3de0a1a-3747-4596-f2af-f227b4c48d65"
      },
      "source": [
        "outc"
      ],
      "execution_count": null,
      "outputs": [
        {
          "output_type": "execute_result",
          "data": {
            "text/plain": [
              "['1v-1v',\n",
              " '1v-2g',\n",
              " '1v-3g',\n",
              " '1v-4v',\n",
              " '1v-5v',\n",
              " '1v-6g',\n",
              " '1v-7v',\n",
              " '1v-8g',\n",
              " '1v-9v',\n",
              " '1v-Dv',\n",
              " '2g-1v',\n",
              " '2g-2g',\n",
              " '2g-3g',\n",
              " '2g-4v',\n",
              " '2g-5v',\n",
              " '2g-6g',\n",
              " '2g-7v',\n",
              " '2g-8g',\n",
              " '2g-9v',\n",
              " '2g-Dv',\n",
              " '3g-1v',\n",
              " '3g-2g',\n",
              " '3g-3g',\n",
              " '3g-4v',\n",
              " '3g-5v',\n",
              " '3g-6g',\n",
              " '3g-7v',\n",
              " '3g-8g',\n",
              " '3g-9v',\n",
              " '3g-Dv',\n",
              " '4v-1v',\n",
              " '4v-2g',\n",
              " '4v-3g',\n",
              " '4v-4v',\n",
              " '4v-5v',\n",
              " '4v-6g',\n",
              " '4v-7v',\n",
              " '4v-8g',\n",
              " '4v-9v',\n",
              " '4v-Dv',\n",
              " '5v-1v',\n",
              " '5v-2g',\n",
              " '5v-3g',\n",
              " '5v-4v',\n",
              " '5v-5v',\n",
              " '5v-6g',\n",
              " '5v-7v',\n",
              " '5v-8g',\n",
              " '5v-9v',\n",
              " '5v-Dv',\n",
              " '6g-1v',\n",
              " '6g-2g',\n",
              " '6g-3g',\n",
              " '6g-4v',\n",
              " '6g-5v',\n",
              " '6g-6g',\n",
              " '6g-7v',\n",
              " '6g-8g',\n",
              " '6g-9v',\n",
              " '6g-Dv',\n",
              " '7v-1v',\n",
              " '7v-2g',\n",
              " '7v-3g',\n",
              " '7v-4v',\n",
              " '7v-5v',\n",
              " '7v-6g',\n",
              " '7v-7v',\n",
              " '7v-8g',\n",
              " '7v-9v',\n",
              " '7v-Dv',\n",
              " '8g-1v',\n",
              " '8g-2g',\n",
              " '8g-3g',\n",
              " '8g-4v',\n",
              " '8g-5v',\n",
              " '8g-6g',\n",
              " '8g-7v',\n",
              " '8g-8g',\n",
              " '8g-9v',\n",
              " '8g-Dv',\n",
              " '9v-1v',\n",
              " '9v-2g',\n",
              " '9v-3g',\n",
              " '9v-4v',\n",
              " '9v-5v',\n",
              " '9v-6g',\n",
              " '9v-7v',\n",
              " '9v-8g',\n",
              " '9v-9v',\n",
              " '9v-Dv',\n",
              " 'Dv-1v',\n",
              " 'Dv-2g',\n",
              " 'Dv-3g',\n",
              " 'Dv-4v',\n",
              " 'Dv-5v',\n",
              " 'Dv-6g',\n",
              " 'Dv-7v',\n",
              " 'Dv-8g',\n",
              " 'Dv-9v',\n",
              " 'Dv-Dv']"
            ]
          },
          "metadata": {
            "tags": []
          },
          "execution_count": 40
        }
      ]
    }
  ]
}