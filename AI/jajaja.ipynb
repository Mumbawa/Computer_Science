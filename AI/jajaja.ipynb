{
  "nbformat": 4,
  "nbformat_minor": 0,
  "metadata": {
    "colab": {
      "name": "jajaja.ipynb",
      "provenance": [],
      "authorship_tag": "ABX9TyN3YD78vPZ5Ir37GcqYTG1Z"
    },
    "kernelspec": {
      "name": "python3",
      "display_name": "Python 3"
    }
  },
  "cells": [
    {
      "cell_type": "markdown",
      "metadata": {
        "id": "-4vPvoWbCJsG"
      },
      "source": [
        "[![Open In Colab](https://colab.research.google.com/assets/colab-badge.svg)](https://colab.research.google.com/github/Mumbawa/Computer_Science/blob/main/AI/jajaja.ipynb#scrollTo=-4vPvoWbCJsG)\r\n"
      ]
    },
    {
      "cell_type": "code",
      "metadata": {
        "colab": {
          "base_uri": "https://localhost:8080/"
        },
        "id": "LP9S8kK2_4kl",
        "outputId": "16e0e351-586f-4c54-8766-1144ebacf1a7"
      },
      "source": [
        "import numpy\r\n",
        "print('jajaja')\r\n",
        "print('jajaja')\r\n",
        "print('jajaja')\r\n",
        "\r\n"
      ],
      "execution_count": 1,
      "outputs": [
        {
          "output_type": "stream",
          "text": [
            "jajaja\n",
            "jajaja\n",
            "jajaja\n"
          ],
          "name": "stdout"
        }
      ]
    }
  ]
}