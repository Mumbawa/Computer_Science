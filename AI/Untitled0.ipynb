{
  "nbformat": 4,
  "nbformat_minor": 0,
  "metadata": {
    "colab": {
      "name": "Untitled0.ipynb",
      "provenance": [],
      "authorship_tag": "ABX9TyNnTuCTSWwZqQdJZBqVr44u"
    },
    "kernelspec": {
      "name": "python3",
      "display_name": "Python 3"
    }
  },
  "cells": [
    {
      "cell_type": "markdown",
      "metadata": {
        "id": "LGJBvQy8DZ5t"
      },
      "source": [
        "jajjajajajjajaj\r\n",
        "pppppp"
      ]
    },
    {
      "cell_type": "code",
      "metadata": {
        "id": "uLEies_yDnKH"
      },
      "source": [
        ""
      ],
      "execution_count": null,
      "outputs": []
    }
  ]
}