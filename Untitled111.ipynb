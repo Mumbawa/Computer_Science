{
  "nbformat": 4,
  "nbformat_minor": 0,
  "metadata": {
    "colab": {
      "name": "Untitled0.ipynb",
      "provenance": [],
      "authorship_tag": "ABX9TyMZ3D9FTw614/+G3Zzk3koy",
      "include_colab_link": true
    },
    "kernelspec": {
      "name": "python3",
      "display_name": "Python 3"
    }
  },
  "cells": [
    {
      "cell_type": "markdown",
      "metadata": {
        "id": "view-in-github",
        "colab_type": "text"
      },
      "source": [
        "<a href=\"https://colab.research.google.com/github/Mumbawa/Computer_Science/blob/main/Untitled111.ipynb\" target=\"_parent\"><img src=\"https://colab.research.google.com/assets/colab-badge.svg\" alt=\"Open In Colab\"/></a>"
      ]
    },
    {
      "cell_type": "code",
      "metadata": {
        "colab": {
          "base_uri": "https://localhost:8080/"
        },
        "id": "X4kzhOKW9ebF",
        "outputId": "d210b196-bc9d-4171-9f51-85f5cbe89442"
      },
      "source": [
        "import numpy as np\r\n",
        "\r\n",
        "print('jajaja')\r\n",
        "print('jajaja')\r\n",
        "print('jajaja')\r\n",
        "\r\n",
        "\r\n",
        "s = np.array(['1v','2g','3g','4v','5v','6g','7v','8g','9v','Dv'])\r\n",
        "\r\n",
        "outc = []\r\n",
        "\r\n",
        "for i in range(len(s)):\r\n",
        "    for j in range(len(s)):\r\n",
        "        outc.append(s[i] + '-' + s[j])\r\n",
        "\r\n",
        "cont = 0\r\n",
        "for i in outc:\r\n",
        "    if i[1] == 'v' and i[-1] == 'v':\r\n",
        "        cont = cont + 1\r\n",
        "        print(i,',',cont)\r\n",
        "\r\n",
        "# print(len(outc),cont)\r\n",
        "# print(outc)\r\n",
        "\r\n"
      ],
      "execution_count": null,
      "outputs": [
        {
          "output_type": "stream",
          "text": [
            "jajaja\n",
            "1v-1v , 1\n",
            "1v-4v , 2\n",
            "1v-5v , 3\n",
            "1v-7v , 4\n",
            "1v-9v , 5\n",
            "1v-Dv , 6\n",
            "4v-1v , 7\n",
            "4v-4v , 8\n",
            "4v-5v , 9\n",
            "4v-7v , 10\n",
            "4v-9v , 11\n",
            "4v-Dv , 12\n",
            "5v-1v , 13\n",
            "5v-4v , 14\n",
            "5v-5v , 15\n",
            "5v-7v , 16\n",
            "5v-9v , 17\n",
            "5v-Dv , 18\n",
            "7v-1v , 19\n",
            "7v-4v , 20\n",
            "7v-5v , 21\n",
            "7v-7v , 22\n",
            "7v-9v , 23\n",
            "7v-Dv , 24\n",
            "9v-1v , 25\n",
            "9v-4v , 26\n",
            "9v-5v , 27\n",
            "9v-7v , 28\n",
            "9v-9v , 29\n",
            "9v-Dv , 30\n",
            "Dv-1v , 31\n",
            "Dv-4v , 32\n",
            "Dv-5v , 33\n",
            "Dv-7v , 34\n",
            "Dv-9v , 35\n",
            "Dv-Dv , 36\n"
          ],
          "name": "stdout"
        }
      ]
    },
    {
      "cell_type": "code",
      "metadata": {
        "id": "s-Vg4bRVCAHw"
      },
      "source": [
        "cont = 0\r\n",
        "for i in outc:\r\n",
        "    if i[1] == 'v' and i[-1] == 'g':\r\n",
        "        cont = cont + 1\r\n",
        "        print(i,',',cont)\r\n",
        "    if i[1] == 'g' and i[-1] == 'v':\r\n",
        "        cont = cont + 1\r\n",
        "        print(i,',',cont)\r\n",
        "\r\n",
        "        "
      ],
      "execution_count": null,
      "outputs": []
    },
    {
      "cell_type": "code",
      "metadata": {
        "colab": {
          "base_uri": "https://localhost:8080/"
        },
        "id": "vq41hao9E77A",
        "outputId": "1b5cc911-db91-4d2f-ad71-8b59981337cb"
      },
      "source": [
        "print(len(outc),len(set (outc)))\r\n"
      ],
      "execution_count": null,
      "outputs": [
        {
          "output_type": "stream",
          "text": [
            "100 100\n"
          ],
          "name": "stdout"
        }
      ]
    },
    {
      "cell_type": "code",
      "metadata": {
        "id": "wwBJMgrIFH55"
      },
      "source": [
        "outc"
      ],
      "execution_count": null,
      "outputs": []
    }
  ]
}