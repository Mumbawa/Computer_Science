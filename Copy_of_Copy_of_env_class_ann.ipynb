{
  "nbformat": 4,
  "nbformat_minor": 0,
  "metadata": {
    "accelerator": "TPU",
    "colab": {
      "name": "Copy of Copy of env_class_ann.ipynb",
      "provenance": [],
      "collapsed_sections": [
        "TyYDQKsWmVAB"
      ],
      "toc_visible": true,
      "history_visible": true
    },
    "kernelspec": {
      "display_name": "Python 3",
      "name": "python3"
    },
    "language_info": {
      "name": "python"
    }
  },
  "cells": [
    {
      "cell_type": "markdown",
      "metadata": {
        "id": "FaELVlK1j3K_"
      },
      "source": [
        "<center><h1><b>RED NEURONAL PARA LA CLASIFICACIÓN MORFOLÓGICA A PARTIR DE LA RESPUESTA DEL REGISTRO DE GAMMA RAY EN POZOS DE PETRÓLEO EMPLEANDO TÉCNICAS DE PROCESAMIENTO DE LENGUAJE NATURAL</b></h1></center>"
      ]
    },
    {
      "cell_type": "markdown",
      "metadata": {
        "id": "pBmLVGLR2Ern"
      },
      "source": [
        "# DEFINICION DEL PROBLEMA\n",
        "\n"
      ]
    },
    {
      "cell_type": "markdown",
      "metadata": {
        "id": "IeimVNB2_cNu"
      },
      "source": [
        "Un modelo geológico busca resolver tres preguntas ¿Qué rocas hay en el área?, ¿Cuál fue su ambiente de depósito?  Y ¿Qué geometría tienen las rocas en el área?, para responder a las dos primeras preguntas se podrían taladrar pozos extrayendo la roca intacta, pero al ser pozos de varios kilómetros de longitud esta solución es económicamente inviable.\n",
        "\n",
        "El método utilizado actualmente consiste en enviar una sonda con sensores de radiación gamma provenientes del Uranio, Torio y Potasio provenientes de las rocas. Esto permite clasificar las rocas en dos grupos: rocas arenosas (poco radioactivas) y rocas arcillosas (radioactivas).  A partir de los cambios en el tipo de roca a lo largo del pozo se identifican los diferentes **ambientes** de depósito.\n",
        "\n",
        "La interpretación del registro de rayos gamma esta sujeta del interprete en las definiciones de ¿Qué es una roca completamente arenosa?, ¿Qué es una roca completamente arcillosa?, ¿Cuáles son los limites de cada ambiente de depósito? Y ¿Cuál es la clasificación de cada ambiente?\n"
      ]
    },
    {
      "cell_type": "markdown",
      "metadata": {
        "id": "055M8rajmLq9"
      },
      "source": [
        "# IMPORTACIÓN DE LIBRERIAS\n",
        "\n"
      ]
    },
    {
      "cell_type": "code",
      "metadata": {
        "id": "OkB79jnsWi_d"
      },
      "source": [
        "import os\n",
        "import sys\n",
        "import math\n",
        "import numpy             as np\n",
        "import pandas            as pd\n",
        "import random            as rd\n",
        "import shutil            as sht\n",
        "import tensorflow        as tf\n",
        "import matplotlib.pyplot as plt\n",
        "from   sklearn.decomposition       import PCA\n",
        "from   sklearn.manifold            import TSNE\n",
        "from   tensorflow.keras.optimizers import Adam\n",
        "from   tensorflow.keras.models     import Model\n",
        "from   tensorflow                  import keras\n",
        "from   gensim.models               import word2vec\n",
        "from   sklearn.decomposition       import KernelPCA\n",
        "from   tensorflow.keras.utils      import plot_model\n",
        "from   sklearn.model_selection     import train_test_split\n",
        "from   tensorflow.keras.losses     import MeanSquaredError\n",
        "from   tensorflow.keras.layers     import Input, Dense, Activation"
      ],
      "execution_count": 50,
      "outputs": []
    },
    {
      "cell_type": "markdown",
      "metadata": {
        "id": "TyYDQKsWmVAB"
      },
      "source": [
        "# DEFINICIÓN DE FUNCIONES"
      ]
    },
    {
      "cell_type": "code",
      "metadata": {
        "id": "I12EDT1ORAXN"
      },
      "source": [
        "#__________________________________________________________________________________________________\n",
        "\n",
        "def Manejo_rutas (colab_o_local='local'):\n",
        "\n",
        "    if colab_o_local == 'local':\n",
        "        re = '../02_input'\n",
        "        rs = '../03_output'\n",
        "    elif colab_o_local == 'colab':\n",
        "\n",
        "        from google.colab import drive\n",
        "        drive.mount('/content/drive')\n",
        "\n",
        "        re = '/content/drive/MyDrive/aux_diplomado/01_env_class_ann/02_input'\n",
        "        rs = '/content/drive/MyDrive/aux_diplomado/01_env_class_ann/03_output'\n",
        "    \n",
        "    return re, rs\n",
        "#__________________________________________________________________________________________________\n",
        "\n",
        "def Borrar_result (rs):\n",
        "        \n",
        "    rutas =[rs + '/01_ambientes/todos_los_amb',\n",
        "            rs + '/01_ambientes/amb_1',\n",
        "            rs + '/01_ambientes/amb_2',\n",
        "            rs + '/01_ambientes/amb_3',\n",
        "            rs + '/01_ambientes/amb_4',\n",
        "            rs + '/01_ambientes/amb_5',\n",
        "            rs + '/01_ambientes/resumen_amb',\n",
        "            rs + '/02_percentiles',\n",
        "            rs + '/03_graficas/todos_los_amb',\n",
        "            rs + '/03_graficas/amb_1',\n",
        "            rs + '/03_graficas/amb_2',\n",
        "            rs + '/03_graficas/amb_3',\n",
        "            rs + '/03_graficas/amb_4',\n",
        "            rs + '/03_graficas/amb_5']\n",
        "    \n",
        "    for i in rutas:\n",
        "        aux = os.listdir(i)\n",
        "        for j in aux:\n",
        "            os.remove( i + '/' + j )\n",
        "#__________________________________________________________________________________________________\n",
        "\n",
        "def Df_amb (re, namb):\n",
        "    with open (re + '/03_amb_pozos.txt', 'r') as fr:\n",
        "        L_a_amb = [_.rstrip('\\n').split(',') for _ in fr.readlines()]\n",
        "        \n",
        "    L_a_amb_dep = []\n",
        "    for i in L_a_amb:\n",
        "        if i != [''] and i[0][0] != '$':\n",
        "            L_a_amb_dep.append( [ i[0], i[1].replace(' ',''), float(i[2]), float(i[3]) ])\n",
        "            \n",
        "    df_amb = pd.DataFrame(L_a_amb_dep, columns=['Pozo', 'Ambiente', 'Top', 'Bot'])\n",
        "\n",
        "    if i == 1:\n",
        "        return df_amb\n",
        "\n",
        "    elif namb != 1:\n",
        "        aux    = df_amb.groupby('Ambiente')\n",
        "        df_amb = aux.sample(n=int (namb))\n",
        "        return df_amb\n",
        "#__________________________________________________________________________________________________\n",
        "\n",
        "def GR_norm (GR, GR_inf, GR_sup):\n",
        "    gr_nor = (GR-GR_inf) / (GR_sup-GR_inf)\n",
        "    if gr_nor > 1.0:\n",
        "        gr_nor = 1.0\n",
        "    elif gr_nor < 0:\n",
        "        gr_nor = 0.0\n",
        "    return gr_nor\n",
        "#__________________________________________________________________________________________________\n",
        "\n",
        "def Zeros_fill (n_interv):\n",
        "    \n",
        "    if int (n_interv) <= 10:\n",
        "        zeros_fill = int (1)\n",
        "        return zeros_fill\n",
        "    elif  10 < int (n_interv) <= 100:\n",
        "        zeros_fill = int (2)\n",
        "        return zeros_fill    \n",
        "    elif  100 < int (n_interv) <= 1000:\n",
        "        zeros_fill = int (3)\n",
        "        return zeros_fill\n",
        "    else:\n",
        "        sys.exit('Error: El número de intervalos excede el valor permitido por la función'+\n",
        "                  ' \"Zeros_fill\". Se debe modificar esta función para poder utilizar el número de'+\n",
        "                  ' intervalos ingreasados.')\n",
        "#__________________________________________________________________________________________________\n",
        "\n",
        "def Codificacion (n_interv):\n",
        "\n",
        "    lista_carct = []\n",
        "    zeros_fill  = Zeros_fill(n_interv)\n",
        "    \n",
        "    for i in range (int(n_interv)):\n",
        "        lista_carct.append('a' + str(i).zfill(zeros_fill))\n",
        "    \n",
        "    return lista_carct\n",
        "#__________________________________________________________________________________________________\n",
        "\n",
        "def Lista_interv (n_interv):\n",
        "    \n",
        "    len_interv  = 1 / n_interv\n",
        "    list_interv = [] \n",
        "    codific     = Codificacion(n_interv)\n",
        "    \n",
        "    for i in range(int(n_interv)):\n",
        "        if i == 0:\n",
        "            interv = ( 0.0 , round(len_interv,8) , codific[i] )\n",
        "            list_interv.append(interv)\n",
        "            \n",
        "        elif i < int(n_interv) - 1:\n",
        "            interv=(round(list_interv[-1][1],8),round(list_interv[-1][1]+len_interv,8),\\\n",
        "                                                                            codific[i])\n",
        "            list_interv.append(interv)\n",
        "            \n",
        "        elif i == int(n_interv) - 1:\n",
        "            interv = ( round(list_interv[-1][1],8) , 1.0 , codific[i])\n",
        "            list_interv.append(interv)\n",
        "            \n",
        "    return list_interv \n",
        "#__________________________________________________________________________________________________\n",
        "\n",
        "def GRnorm_a_letra (GRnorm, list_interv):\n",
        "    \n",
        "    if np.isnan(GRnorm) == True:\n",
        "        return np.nan                \n",
        "    else:\n",
        "        for i in range (len(list_interv)):\n",
        "            if i <  len(list_interv) - 1:\n",
        "                if GRnorm >= list_interv[i][0] and GRnorm < list_interv[i][1]:\n",
        "                    return list_interv[i][2]                \n",
        "            else:\n",
        "                if GRnorm >= list_interv[i][0] and GRnorm <= list_interv[i][1]:\n",
        "                    return list_interv[i][2]\n",
        "#__________________________________________________________________________________________________\n",
        "\n",
        "def Cent_no_cent (nom_pozo, conc,len_amb, Well_Df_Fil_Env):\n",
        "    \n",
        "    dept_i = Well_Df_Fil_Env['DEPT'].iloc[0]\n",
        "    dept_j = Well_Df_Fil_Env['DEPT'].iloc[-1]\n",
        "    \n",
        "    ins_i = None\n",
        "    ins_f = None\n",
        "    \n",
        "    if len(Well_Df_Fil_Env) >= len_amb:\n",
        "        nramoi = True\n",
        "    else:\n",
        "        nramoi = False\n",
        "        \n",
        "    if conc == 1.0:\n",
        "        \n",
        "        if len(Well_Df_Fil_Env) > len_amb:\n",
        "            aux1 = len(Well_Df_Fil_Env) - len_amb\n",
        "            mod2 = round(aux1%2, 5)\n",
        "            \n",
        "            if mod2 == 0:\n",
        "                aux2 = int(round(aux1/2,5))\n",
        "                Well_Df_Fil_Env = Well_Df_Fil_Env.iloc[aux2:len(Well_Df_Fil_Env)-aux2].copy()\n",
        "                ins_i = None\n",
        "                ins_f = None\n",
        "                \n",
        "            if mod2!= 0:\n",
        "                aux2 = round(aux1/2,5)\n",
        "                aux3 = math.ceil(aux2)\n",
        "                aux4 = aux3 - 1\n",
        "                aux5 = [aux3,aux4]\n",
        "                aux6 = rd.choice(aux5)\n",
        "                aux5.remove(aux6)\n",
        "                aux7 = aux5[0]\n",
        "                Well_Df_Fil_Env = Well_Df_Fil_Env.iloc[aux6:len(Well_Df_Fil_Env)-aux7].copy()\n",
        "                ins_i = None\n",
        "                ins_f = None\n",
        "                \n",
        "        if len(Well_Df_Fil_Env) < len_amb:\n",
        "            aux1 = abs(len(Well_Df_Fil_Env) - len_amb)\n",
        "            mod2 = round(aux1%2, 5)\n",
        "            \n",
        "            if mod2 == 0:\n",
        "                aux2 = int(round(aux1/2,5))\n",
        "                aux3 = pd.Series(np.full(aux2, nom_pozo))\n",
        "                aux4 = pd.Series(np.full(aux2, 0))\n",
        "                aux5 = pd.concat([aux3,aux4,aux4,aux4,aux4], axis='columns')\n",
        "                aux5.columns = ['WELLNAME','DEPT','GR','AMBIENTE','GR_NORM']\n",
        "     \n",
        "                Well_Df_Fil_Env = pd.concat([aux5,Well_Df_Fil_Env,aux5]).copy()\n",
        "                \n",
        "                ins_i = aux2\n",
        "                ins_f = aux2\n",
        "                \n",
        "            if mod2!= 0:\n",
        "                aux2  = round(aux1/2,5)\n",
        "                aux3  = math.ceil(aux2)\n",
        "                aux4  = aux3 - 1\n",
        "                aux5  = [aux3,aux4]\n",
        "                aux6  = rd.choice(aux5)\n",
        "                aux5.remove(aux6)\n",
        "                aux7  = aux5[0]\n",
        "                \n",
        "                aux8  = pd.Series(np.full(aux6, nom_pozo))\n",
        "                aux9  = pd.Series(np.full(aux7, nom_pozo))\n",
        "                \n",
        "                aux10 = pd.Series(np.full(aux6, 0))\n",
        "                aux11 = pd.Series(np.full(aux7, 0))\n",
        "                \n",
        "                aux12 = pd.concat([aux8,aux10,aux10,aux10,aux10], axis='columns')\n",
        "                aux13 = pd.concat([aux9,aux11,aux11,aux11,aux11], axis='columns')\n",
        "                \n",
        "                aux12.columns = ['WELLNAME','DEPT','GR','AMBIENTE','GR_NORM']\n",
        "                aux13.columns = ['WELLNAME','DEPT','GR','AMBIENTE','GR_NORM']\n",
        "                \n",
        "                Well_Df_Fil_Env = pd.concat([aux12,Well_Df_Fil_Env,aux13]).copy()\n",
        "                \n",
        "                ins_i = aux6\n",
        "                ins_f = aux7\n",
        "        \n",
        "    return Well_Df_Fil_Env, nramoi, ins_i, ins_f, dept_i, dept_j\n",
        "#__________________________________________________________________________________________________\n",
        "\n",
        "def Graficar (nom_pozo, c_piso, dept_i, dept_j,ins_i,ins_f,nramoi,step, conc, len_env,\n",
        "              env, l_cont, well_df_fil_amb, dmm,rs,g_graf):\n",
        "    \n",
        "    if g_graf == 1:\n",
        "    \n",
        "        nfgr=nom_pozo +'_niv_'+str(c_piso)+'_amb_'+env +'_'+str(l_cont[int(env)-1]).zfill(3)+'.png'\n",
        "            \n",
        "        if conc == 0.0:\n",
        "            num_reg = len(well_df_fil_amb)\n",
        "            plt.figure(figsize=(10./2.54,dmm/25.4 * num_reg), facecolor='whitesmoke')\n",
        "            vec_prof    = well_df_fil_amb['DEPT']\n",
        "            vec_GR_norm = well_df_fil_amb['GR_NORM']\n",
        "            plt.ylim(well_df_fil_amb['DEPT'].iloc[0], well_df_fil_amb['DEPT'].iloc[-1])\n",
        "            plt.fill_betweenx(vec_prof, vec_GR_norm, 0, zorder = 0, color ='silver')\n",
        "            plt.fill_betweenx(vec_prof, vec_GR_norm, 1, zorder = 0, color = 'gold')\n",
        "            \n",
        "        elif conc == 1.0 and nramoi == True:\n",
        "            plt.figure(figsize=(10./2.54,dmm/25.4 * len_env), facecolor='whitesmoke')\n",
        "            vec_prof    = well_df_fil_amb['DEPT']\n",
        "            vec_GR_norm = well_df_fil_amb['GR_NORM']\n",
        "            plt.ylim(well_df_fil_amb['DEPT'].iloc[0], well_df_fil_amb['DEPT'].iloc[-1])\n",
        "            plt.fill_betweenx(vec_prof, vec_GR_norm, 0, zorder = 0, color ='silver')\n",
        "            plt.fill_betweenx(vec_prof, vec_GR_norm, 1, zorder = 0, color = 'gold')\n",
        "            \n",
        "        elif conc == 1.0 and nramoi == False:\n",
        "            plt.figure(figsize=(10./2.54,dmm/25.4 * len_env), facecolor='whitesmoke')\n",
        "            aux1  = step * ins_i\n",
        "            aux2  = step * ins_f\n",
        "            \n",
        "            aux3 = dept_i - aux1\n",
        "            aux4 = dept_j + aux2\n",
        "            \n",
        "            aux5 = [aux3  , dept_i] \n",
        "            aux6 = [dept_j, aux4]\n",
        "            \n",
        "            aux7 = [0,0]\n",
        "            aux8 = [0,0]\n",
        "            \n",
        "            aux9 = well_df_fil_amb[(well_df_fil_amb['AMBIENTE']!=0) & (well_df_fil_amb['DEPT']!=0)]\n",
        "            \n",
        "            vec_prof    = aux5 + list(aux9['DEPT']) + aux6\n",
        "            vec_GR_norm = aux7 + list(aux9['GR_NORM']) + aux8\n",
        "            \n",
        "            plt.ylim(aux3, aux4)\n",
        "            plt.fill_betweenx(aux9['DEPT'], aux9['GR_NORM'], 0, zorder = 0, color ='silver')\n",
        "            plt.fill_betweenx(aux9['DEPT'], aux9['GR_NORM'], 1, zorder = 0, color = 'gold')\n",
        "            \n",
        "        plt.plot(vec_GR_norm, vec_prof, linewidth=0.50, color='black')    \n",
        "        plt.xlim(0,1)\n",
        "        plt.gca().invert_yaxis()\n",
        "        plt.grid()\n",
        "        plt.title('PROF. VS G.R_norm\\n(Pozo: {}, Nivel: {}, Amb.: {})'.format(nom_pozo,c_piso,env))\n",
        "        plt.xlabel('GR_normalizado')\n",
        "        plt.ylabel('Profundidad [ft]')\n",
        "        plt.savefig(rs + '/03_graficas/todos_los_amb/'+nfgr, bbox_inches='tight',pad_inches=0.1)\n",
        "        plt.close()\n",
        "#__________________________________________________________________________________________________\n",
        "\n",
        "def Gen_csv_amb (g_csv, well_df_fil_amb_cent_o_no,rs,nfile):\n",
        "    if g_csv == 1:\n",
        "        well_df_fil_amb_cent_o_no.to_csv(rs + '/01_ambientes/todos_los_amb/' + nfile, \n",
        "                                    index=False, columns=['DEPT','GR_NORM', 'CARACTER','AMBIENTE'])\n",
        "#__________________________________________________________________________________________________\n",
        "\n",
        "def Filt_top_bot (i,L_lin_ag_df, well_df, top, bot):\n",
        "    \n",
        "    if i < len(L_lin_ag_df) -1:\n",
        "        filt = (well_df['DEPT'] >= top) & (well_df['DEPT'] < bot)\n",
        "    else:\n",
        "        filt = (well_df['DEPT'] >= top) & (well_df['DEPT'] <= bot)\n",
        "        \n",
        "    return filt\n",
        "#__________________________________________________________________________________________________\n",
        "\n",
        "def GR_qt_inf_sup (tg, well_df, nom_pozo):\n",
        "    \n",
        "    if tg == 0:\n",
        "        GR_qt_inf = well_df['GR'].quantile(q_inf)\n",
        "        GR_qt_sup = well_df['GR'].quantile(q_sup)\n",
        "        return GR_qt_inf, GR_qt_sup\n",
        "    \n",
        "    if tg == 1:\n",
        "        nom_pozo_aux = nom_pozo.split('_noi_')[0]\n",
        "        GR_qt_inf    = df_tope.loc[nom_pozo_aux, 'Arena']\n",
        "        GR_qt_sup    = df_tope.loc[nom_pozo_aux, 'Shale']\n",
        "        return GR_qt_inf, GR_qt_sup\n",
        "#__________________________________________________________________________________________________\n",
        "\n",
        "def Guar_por_amb (rs,g_csv, g_graf):\n",
        "    if g_csv == 1:\n",
        "        ruta_csv = rs + '/01_ambientes/todos_los_amb'\n",
        "        arch_csv = os.listdir(ruta_csv)\n",
        "        for i in arch_csv:\n",
        "            if 'amb_1' in i:\n",
        "                sht.copyfile(ruta_csv + '/' +i, ruta_csv[:-13] + 'amb_1'+'/'+i)\n",
        "            elif 'amb_2' in i:\n",
        "                sht.copyfile(ruta_csv + '/' +i, ruta_csv[:-13] + 'amb_2'+'/'+i)\n",
        "            elif 'amb_3' in i:\n",
        "                sht.copyfile(ruta_csv + '/' +i, ruta_csv[:-13] + 'amb_3'+'/'+i)\n",
        "            elif 'amb_4' in i:\n",
        "                sht.copyfile(ruta_csv + '/' +i, ruta_csv[:-13] + 'amb_4'+'/'+i)\n",
        "            elif 'amb_5' in i:\n",
        "                sht.copyfile(ruta_csv + '/' +i, ruta_csv[:-13] + 'amb_5'+'/'+i)\n",
        "    \n",
        "    if g_graf == 1:\n",
        "        ruta_grf = rs + '/03_graficas/todos_los_amb'\n",
        "        arch_grf = os.listdir(ruta_grf)\n",
        "        for i in arch_grf:\n",
        "            if 'amb_1' in i:\n",
        "                sht.copyfile(ruta_grf + '/' +i, ruta_grf[:-13] + 'amb_1'+'/'+i)\n",
        "            elif 'amb_2' in i:\n",
        "                sht.copyfile(ruta_grf + '/' +i, ruta_grf[:-13] + 'amb_2'+'/'+i)\n",
        "            elif 'amb_3' in i:\n",
        "                sht.copyfile(ruta_grf + '/' +i, ruta_grf[:-13] + 'amb_3'+'/'+i)\n",
        "            elif 'amb_4' in i:\n",
        "                sht.copyfile(ruta_grf + '/' +i, ruta_grf[:-13] + 'amb_4'+'/'+i)\n",
        "            elif 'amb_5' in i:\n",
        "                sht.copyfile(ruta_grf + '/' +i, ruta_grf[:-13] + 'amb_5'+'/'+i)\n",
        "#__________________________________________________________________________________________________\n",
        "\n",
        "def Read_ent_gen (re):\n",
        "    ent_gen = list(np.loadtxt(re + '/01_dat_gen.txt', skiprows=2,usecols=0))\n",
        "    ent_gen[0] = int(ent_gen[0])\n",
        "    return ent_gen\n",
        "#__________________________________________________________________________________________________"
      ],
      "execution_count": 51,
      "outputs": []
    },
    {
      "cell_type": "markdown",
      "metadata": {
        "id": "gNrmppT3pidv"
      },
      "source": [
        "# PREPROCESAMIENTO DE DATOS"
      ]
    },
    {
      "cell_type": "markdown",
      "metadata": {
        "id": "73b8L_tGmpB-"
      },
      "source": [
        "## IMPLEMENTACIÓN DEL RUIDO GAUSSIANO"
      ]
    },
    {
      "cell_type": "markdown",
      "metadata": {
        "id": "qePB7EQhzwYm"
      },
      "source": [
        "Ya que el proceso de obtención de mediciones de Gamma Ray (GR) en pozos de petróleos es bastante costoso para las empresas, no fue factible para el proceso de entrenamiento de la red tener una gran cantidad de muestras de forma gratuita.  Para solucionar esto se optó por generar gráficas de GR para el entrenamiento de manera artificial usuando ruidos gausianos a una magnitud que no modifique la clasificación asignada inicialmente al ambiente.\n",
        "\n",
        "La siguiente imagen ilustra la idea anterior:\n",
        "\n",
        "![picture](https://drive.google.com/uc?export=view&id=1o2HG36rgjIFLdZ2ZzKgm9yNg5_94xrnb)\n",
        "\n",
        "En la anterior imagen, la gráfica izquierda corresponde al registro original, mientras que la derecha tiene aplicado el ruido gaussiano.\n",
        "\n",
        "Para el proceso de entrenamiento se generaron $25$ registros con ruido gaussiano por cada registro original."
      ]
    },
    {
      "cell_type": "code",
      "metadata": {
        "id": "_awZ9IKxXfaQ",
        "colab": {
          "base_uri": "https://localhost:8080/"
        },
        "outputId": "69c9e5e9-31c1-4a39-fb43-4d574f088aa8"
      },
      "source": [
        "#__________________________________________________________________________________________________\n",
        "\n",
        "re, rs = Manejo_rutas (colab_o_local='colab')\n",
        "\n",
        "Borrar_result(rs)\n",
        "\n",
        "n,factor, quant,namb, conc,g_csv,g_graf,len_env,tg,q_inf,q_sup,step,n_interv,dmm=Read_ent_gen (re)\n",
        "\n",
        "df_amb       = Df_amb(re,namb)\n",
        "L_nom_pozos  = list (df_amb['Pozo'].unique())\n",
        "\n",
        "df  = pd.read_csv(re + '/02_data_set_well_logs.csv', usecols=[5,17,20])[['WELLNAME','DEPT','GR']]\n",
        "df.set_index('WELLNAME',inplace=True)\n",
        "df           = df.loc[L_nom_pozos].reset_index()\n",
        "well_grp_df_rg  = df.groupby('WELLNAME', sort=False)\n",
        "#__________________________________________________________________________________________________\n",
        "\n",
        "for nom_pozo in L_nom_pozos:\n",
        "    \n",
        "    well_df = well_grp_df_rg.get_group(nom_pozo).copy().reset_index(drop=True)\n",
        "    GR_quant = well_df['GR'].quantile(quant)\n",
        "    \n",
        "    for i in range(n):\n",
        "        \n",
        "        well_df_noise = well_df.copy()\n",
        "        well_df_noise['GR'] = well_df_noise['GR'].apply\\\n",
        "            (lambda x: x + np.random.normal()*factor*GR_quant)\n",
        "            \n",
        "        well_df_noise['WELLNAME'] = nom_pozo + '_noi_' + str(i+1)\n",
        "        \n",
        "        df = df.append(well_df_noise,ignore_index=True)\n",
        "#__________________________________________________________________________________________________\n",
        "        \n",
        "well_grp_df_amb  = df_amb.groupby('Pozo', sort=False)\n",
        "for i in well_grp_df_amb:\n",
        "    for j in range(n):\n",
        "        df_noi_ij = i[1].copy()\n",
        "        df_noi_ij['Pozo'] = i[0] + '_noi_' + str (j+1)\n",
        "        df_amb = df_amb.append(df_noi_ij,ignore_index=True)\n",
        "#__________________________________________________________________________________________________"
      ],
      "execution_count": 52,
      "outputs": [
        {
          "output_type": "stream",
          "text": [
            "Drive already mounted at /content/drive; to attempt to forcibly remount, call drive.mount(\"/content/drive\", force_remount=True).\n"
          ],
          "name": "stdout"
        }
      ]
    },
    {
      "cell_type": "markdown",
      "metadata": {
        "id": "-TPNl5-MnCMh"
      },
      "source": [
        "## OBTENCIÓN DEL CORPUS"
      ]
    },
    {
      "cell_type": "markdown",
      "metadata": {
        "id": "a4Av3Gjw9lD6"
      },
      "source": [
        "Uno de los principales problemas de este estudio proviene del hecho de que cada medición de Gamma Ray (GR) para un pozo tiene una cantidad de registros altamente variable y por lo tanto los ambientes serán considerablemente variables en longitud. Para trabajar con estos conjuntos de longitudes desiguales se decidió abordar el problema como un problema de ***procesamiento del lenguaje natural***. \n",
        "\n",
        "Ya que el rango de los datos permanece entre $[0,1]$ se dividió el intervalo en 100 subintervalos de $0.01$ y se le asignó a cada uno de los intervalos las palabras desde $a00$ hasta $a99$ siendo así cada ambiente un documento de texto.\n",
        "\n",
        "Para el presente estudio se tokenizó cada documento por palabras, de forma que el corpus del análisis se constituye por el conjunto de palabras $\\{a00,...,a99\\}$.\n",
        "\n",
        "El siguente esquema ilustra lo anterior:\n",
        "\n",
        "![picture](https://drive.google.com/uc?export=view&id=1CsaculFAU3FpdOifSu6wOqP6BnbhL4xt)\n",
        "\n",
        "\n"
      ]
    },
    {
      "cell_type": "code",
      "metadata": {
        "id": "y7COba0Pdhyj"
      },
      "source": [
        "#__________________________________________________________________________________________________\n",
        "\n",
        "list_interv = Lista_interv(n_interv)\n",
        "\n",
        "df['DEPT']  = (df['DEPT']/0.3048).round(8)    \n",
        "well_grp_df = df.groupby('WELLNAME')\n",
        "\n",
        "well_grp_df_amb  = df_amb.groupby('Pozo', sort=False)\n",
        "\n",
        "df_tope =  pd.read_csv(re + '/04_bases_arena_shale.csv',\n",
        "                        dtype={'Arena':float, 'Shale':float}).set_index('Pozo')\n",
        "#__________________________________________________________________________________________________\n",
        "\n",
        "l_perc     = []\n",
        "l_cont     = [0,0,0,0,0]\n",
        "l_resm_env = []\n",
        "corpus     = []\n",
        "label_amb  = []\n",
        "\n",
        "for amb_pozo in well_grp_df_amb:\n",
        "\n",
        "    nom_pozo    = amb_pozo[0]\n",
        "    L_lin_ag_df = amb_pozo[1].drop('Pozo', axis='columns')\n",
        "    L_lin_ag_df['Ambiente'] = L_lin_ag_df['Ambiente'].astype(str)\n",
        "\n",
        "    #______________________________________________________________________________________________\n",
        "    \n",
        "    well_df   = well_grp_df.get_group(nom_pozo).copy().reset_index(drop=True)\n",
        "    \n",
        "    GR_min    = well_df['GR'].min()\n",
        "    GR_max    = well_df['GR'].max()\n",
        "    GR_qt_inf, GR_qt_sup = GR_qt_inf_sup (tg, well_df, nom_pozo)\n",
        "    #______________________________________________________________________________________________\n",
        "    \n",
        "    c_piso = 0\n",
        "    for i in range(len(L_lin_ag_df)):\n",
        "        \n",
        "        c_piso += 1\n",
        "        \n",
        "        env  = L_lin_ag_df.iloc[i,0]\n",
        "        top  = L_lin_ag_df.iloc[i,1]\n",
        "        bot  = L_lin_ag_df.iloc[i,2]\n",
        "        \n",
        "        filt = Filt_top_bot (i,L_lin_ag_df, well_df, top, bot)\n",
        "            \n",
        "        well_df_fil_amb = well_df[filt].copy()\n",
        "        \n",
        "        well_df_fil_amb['AMBIENTE'] = env\n",
        "        well_df_fil_amb['GR_NORM']  = well_df_fil_amb['GR'].apply(GR_norm, \n",
        "                                                            args=(GR_qt_inf,GR_qt_sup))\n",
        "        \n",
        "        well_df_fil_amb_cent_o_no,nramoi,ins_i,ins_f,dept_i, dept_j =Cent_no_cent(nom_pozo,conc,\n",
        "                                                                        len_env,well_df_fil_amb)\n",
        "                                                  \n",
        "        well_df_fil_amb_cent_o_no['CARACTER'] = well_df_fil_amb_cent_o_no['GR_NORM'].apply\\\n",
        "                                                              (GRnorm_a_letra, args=(list_interv,))\n",
        "        \n",
        "        corpus.append(list (well_df_fil_amb_cent_o_no['CARACTER']))\n",
        "        label_amb.append(env)        \n",
        "        \n",
        "        l_cont[int(env)-1] = l_cont[int(env)-1] + 1                                          \n",
        "        \n",
        "        Graficar(nom_pozo, c_piso,dept_i, dept_j,ins_i,ins_f,nramoi, step, conc, len_env, env,\n",
        "                                                    l_cont,well_df_fil_amb_cent_o_no,dmm,rs,g_graf)     \n",
        "                    \n",
        "        nfile=nom_pozo+'_niv_'+str(c_piso)+'_amb_'+env +'_'+str(l_cont[int(env)-1]).zfill(3)+'.csv'\n",
        "        \n",
        "        Gen_csv_amb (g_csv, well_df_fil_amb_cent_o_no,rs,nfile)\n",
        "        \n",
        "        l_resm_env.append([nfile[:-4],int(env),nom_pozo,c_piso,top,bot])\n",
        "#__________________________________________________________________________________________________\n",
        "\n",
        "resm_df = pd.DataFrame(l_resm_env,columns=['Nombre_amb','Ambiente','Pozo','Nivel', 'Top','Bot']) \n",
        "if g_csv == 1:                                                            \n",
        "    resm_df.to_csv(rs + '/01_ambientes/resumen_amb/Resumen_ambientes.csv',index=False)\n",
        "\n",
        "perc_df = pd.DataFrame(l_perc,columns=['POZO','GR_MIN','GR_MAX','GR_PER_5','GR_PER_95'])  \n",
        "if g_csv == 1:                                                            \n",
        "    perc_df.to_csv(rs + '/02_percentiles/GR_perc_pozos.csv',index=False)\n",
        "\n",
        "Guar_por_amb(rs,g_csv, g_graf)\n",
        "#__________________________________________________________________________________________________"
      ],
      "execution_count": 53,
      "outputs": []
    },
    {
      "cell_type": "markdown",
      "metadata": {
        "id": "GPrV0PgSnXqN"
      },
      "source": [
        "## DEPURACIÓN DEL CORPUS - ELIMINACIÓN DE VALORES nan"
      ]
    },
    {
      "cell_type": "markdown",
      "metadata": {
        "id": "4Z6YOc4y_2zW"
      },
      "source": [
        "Dado que la sonda que se envía para tomar los registros de Gamma Ray puede dejar de tomar registros en ciertos puntos por diversos problemas que se puedan presentar (por ejemplo: se derrumba las paredes de la performación lo cual afecta el equipo), en algunos pozos con los que trabajó no se tiene registro de Gamma Ray en cierto rango de profundidades. Para solucionar este incoveniente de valores faltantes, se optó por suprimir estos registros. El siguiente esquema ilustra lo anterior:\n",
        "\n",
        "![picture](https://drive.google.com/uc?export=view&id=1bD2st1u1XXtoJdzBBaaagS8Pvh7SqqYI)\n"
      ]
    },
    {
      "cell_type": "code",
      "metadata": {
        "id": "S0PxXKu_oIeT"
      },
      "source": [
        "corpus_s_nan = []\n",
        "for i in corpus:\n",
        "    corpus_s_nan.append(list (pd.Series(i).dropna()))"
      ],
      "execution_count": 54,
      "outputs": []
    },
    {
      "cell_type": "markdown",
      "metadata": {
        "id": "p6ZxuiBxnrsO"
      },
      "source": [
        "## DEFINICIÓN DEL CONJUNTO DE DATOS DE ENTRENAMIENTO Y PRUEBA"
      ]
    },
    {
      "cell_type": "code",
      "metadata": {
        "id": "iOglcniDo2YM"
      },
      "source": [
        "random_state = 60\n",
        "x_train, x_test, y_train, y_test = train_test_split(corpus_s_nan, label_amb, test_size=0.20,\n",
        "                                                                  random_state=random_state)"
      ],
      "execution_count": 55,
      "outputs": []
    },
    {
      "cell_type": "markdown",
      "metadata": {
        "id": "DEl-XpNyn69b"
      },
      "source": [
        "## TRANSFORMACIÓN DE LOS ELEMENTOS DEL CORPUS (TEXTO A VECTORES) EMPLEANDO Word2Vec"
      ]
    },
    {
      "cell_type": "markdown",
      "metadata": {
        "id": "Qs3zHug65AhS"
      },
      "source": [
        "Como función de embedding se utilizó *word2vec* con el fin de transformar cada palabra en un vector de $10$ entradas y posteriormente obtener un vector representativo (también de $10$ entradas) de cada documento por medio de promediar cada conjunto de vectores que lo conforman.\n",
        "\n",
        "Una ventaja importante del método recien descrito, es que al final todos los registros (que inicialmente tenían longitudes variables) van a tener la misma longitud ($10$), lo cual facilita la construcción de la red neuronal, pues la capa de entrada será siempre de $10$ neuronas (como se verá más adelnate).\n",
        "\n",
        "La siquiente gráfica ilustra lo anterior:\n",
        "\n",
        "![picture](https://drive.google.com/uc?export=view&id=10flF5HKgNdjXEIOWHqalIDA_p-H7FEt3)\n",
        "\n",
        "Se decidió utilizar una ventana de contexto de 100 palabras con el fin de recoger en longitud física un total de 30 metros, que según nuestro experto es en promedio las distancias en las que se presentan cambios importantes en los pozos."
      ]
    },
    {
      "cell_type": "code",
      "metadata": {
        "id": "VoFXeSuMNOdZ"
      },
      "source": [
        "feature_size   = 10\n",
        "window_context = 100                        \n",
        "min_word_count = 1\n",
        "sample         = 1e-3\n",
        "\n",
        "w2v_model = word2vec.Word2Vec(x_train, window=window_context, \n",
        "                              min_count=min_word_count, sample=sample, size=feature_size)\n",
        "                          \n",
        "wvs = w2v_model.wv[Codificacion (n_interv)]\n",
        "\n",
        "dict_pal_vec = dict (zip(Codificacion (n_interv) ,  wvs))\n",
        "\n",
        "corp_transf_train  = []\n",
        "\n",
        "for i in x_train:\n",
        "    aux  = [] \n",
        "    for j in i:\n",
        "        aux.append(dict_pal_vec[j])\n",
        "    prom = np.mean(np.array(aux),axis=0)\n",
        "    corp_transf_train.append(list (prom))\n",
        "\n",
        "corp_transf_train_np = np.array(corp_transf_train)"
      ],
      "execution_count": 56,
      "outputs": []
    },
    {
      "cell_type": "markdown",
      "metadata": {
        "id": "bZQ-svq5pyya"
      },
      "source": [
        "# RED NEURONAL"
      ]
    },
    {
      "cell_type": "markdown",
      "metadata": {
        "id": "TnbsWVCmoSMs"
      },
      "source": [
        "## DEFINICIÓN DE LA ARQUITECTURA DE LA RED NEURONAL"
      ]
    },
    {
      "cell_type": "markdown",
      "metadata": {
        "id": "Rz5PreUrHKAz"
      },
      "source": [
        "El problema en sí es un problema básico de clasificación, una vez obtenidos los tensores representativos de cada documento de tamaño estándar se procede a alimentar una red con una capa de entrada de 10 neuronas y dos capaz densas de 20 y 10 neuronas con activación relu y una capa de salida softmax con 5 neuronas las cuales representan las 5 clases de ambientes."
      ]
    },
    {
      "cell_type": "code",
      "metadata": {
        "id": "RYNQAeNYSiB2",
        "colab": {
          "base_uri": "https://localhost:8080/"
        },
        "outputId": "ed8b31af-8670-47ba-fb21-905024bc4ad9"
      },
      "source": [
        "# Construcción del modelo\n",
        "\n",
        "model = keras.models.Sequential([\n",
        " keras.layers.Input(shape=[10,]),\n",
        " keras.layers.Dense(20, activation=\"relu\"),\n",
        " keras.layers.Dense(10, activation=\"relu\"),\n",
        " keras.layers.Dense(5 , activation=\"softmax\")\n",
        "])\n",
        "\n",
        "# Parámetros del modelo\n",
        "\n",
        "model.compile(loss = 'sparse_categorical_crossentropy',\n",
        "              optimizer = 'adam',\n",
        "              metrics = 'accuracy')\n",
        "\n",
        "model.summary()"
      ],
      "execution_count": 57,
      "outputs": [
        {
          "output_type": "stream",
          "text": [
            "Model: \"sequential_2\"\n",
            "_________________________________________________________________\n",
            "Layer (type)                 Output Shape              Param #   \n",
            "=================================================================\n",
            "dense_6 (Dense)              (None, 20)                220       \n",
            "_________________________________________________________________\n",
            "dense_7 (Dense)              (None, 10)                210       \n",
            "_________________________________________________________________\n",
            "dense_8 (Dense)              (None, 5)                 55        \n",
            "=================================================================\n",
            "Total params: 485\n",
            "Trainable params: 485\n",
            "Non-trainable params: 0\n",
            "_________________________________________________________________\n"
          ],
          "name": "stdout"
        }
      ]
    },
    {
      "cell_type": "markdown",
      "metadata": {
        "id": "c34JFqTSog_0"
      },
      "source": [
        "## ENTRENAMIENTO DE LA RED NEURONAL"
      ]
    },
    {
      "cell_type": "code",
      "metadata": {
        "id": "tu8VWgkEVKhH",
        "colab": {
          "base_uri": "https://localhost:8080/"
        },
        "outputId": "512118f8-3423-471b-8264-4f792116d013"
      },
      "source": [
        "history = model.fit(corp_transf_train_np, np.array(y_train,dtype=int) - 1, epochs = 100, \n",
        "                                                                   validation_split=0.1)\n",
        "\n",
        "# En esta parte se guarda el modelo\n",
        "aux = os.listdir(rs + '/04_ann_model')\n",
        "aux1 = str (len(aux)+1).zfill(2)\n",
        "model.save(rs + '/04_ann_model/' +'execution_'+aux1+'_ann_results' + '/ann_model.h5')"
      ],
      "execution_count": 58,
      "outputs": [
        {
          "output_type": "stream",
          "text": [
            "Epoch 1/100\n",
            "2/2 [==============================] - 1s 191ms/step - loss: 1.9982 - accuracy: 0.1736 - val_loss: 1.7206 - val_accuracy: 0.5000\n",
            "Epoch 2/100\n",
            "2/2 [==============================] - 0s 44ms/step - loss: 1.9782 - accuracy: 0.1736 - val_loss: 1.6942 - val_accuracy: 0.5000\n",
            "Epoch 3/100\n",
            "2/2 [==============================] - 0s 46ms/step - loss: 1.9291 - accuracy: 0.1736 - val_loss: 1.6698 - val_accuracy: 0.5000\n",
            "Epoch 4/100\n",
            "2/2 [==============================] - 0s 37ms/step - loss: 1.9120 - accuracy: 0.1632 - val_loss: 1.6467 - val_accuracy: 0.5000\n",
            "Epoch 5/100\n",
            "2/2 [==============================] - 0s 41ms/step - loss: 1.8889 - accuracy: 0.2106 - val_loss: 1.6247 - val_accuracy: 0.5000\n",
            "Epoch 6/100\n",
            "2/2 [==============================] - 0s 41ms/step - loss: 1.8500 - accuracy: 0.2500 - val_loss: 1.6034 - val_accuracy: 0.5000\n",
            "Epoch 7/100\n",
            "2/2 [==============================] - 0s 44ms/step - loss: 1.8324 - accuracy: 0.2396 - val_loss: 1.5804 - val_accuracy: 0.5000\n",
            "Epoch 8/100\n",
            "2/2 [==============================] - 0s 42ms/step - loss: 1.7956 - accuracy: 0.2894 - val_loss: 1.5575 - val_accuracy: 0.5000\n",
            "Epoch 9/100\n",
            "2/2 [==============================] - 0s 47ms/step - loss: 1.7305 - accuracy: 0.2789 - val_loss: 1.5359 - val_accuracy: 0.5000\n",
            "Epoch 10/100\n",
            "2/2 [==============================] - 0s 39ms/step - loss: 1.7473 - accuracy: 0.3368 - val_loss: 1.5156 - val_accuracy: 0.5000\n",
            "Epoch 11/100\n",
            "2/2 [==============================] - 0s 41ms/step - loss: 1.7058 - accuracy: 0.3553 - val_loss: 1.4950 - val_accuracy: 0.5000\n",
            "Epoch 12/100\n",
            "2/2 [==============================] - 0s 37ms/step - loss: 1.7119 - accuracy: 0.3634 - val_loss: 1.4727 - val_accuracy: 0.5000\n",
            "Epoch 13/100\n",
            "2/2 [==============================] - 0s 41ms/step - loss: 1.6077 - accuracy: 0.4340 - val_loss: 1.4503 - val_accuracy: 0.5000\n",
            "Epoch 14/100\n",
            "2/2 [==============================] - 0s 39ms/step - loss: 1.6331 - accuracy: 0.4236 - val_loss: 1.4289 - val_accuracy: 0.5000\n",
            "Epoch 15/100\n",
            "2/2 [==============================] - 0s 41ms/step - loss: 1.6471 - accuracy: 0.3924 - val_loss: 1.4076 - val_accuracy: 0.5000\n",
            "Epoch 16/100\n",
            "2/2 [==============================] - 0s 43ms/step - loss: 1.6152 - accuracy: 0.4028 - val_loss: 1.3877 - val_accuracy: 0.5000\n",
            "Epoch 17/100\n",
            "2/2 [==============================] - 0s 49ms/step - loss: 1.6021 - accuracy: 0.3843 - val_loss: 1.3690 - val_accuracy: 0.5000\n",
            "Epoch 18/100\n",
            "2/2 [==============================] - 0s 48ms/step - loss: 1.5751 - accuracy: 0.3947 - val_loss: 1.3506 - val_accuracy: 0.5000\n",
            "Epoch 19/100\n",
            "2/2 [==============================] - 0s 45ms/step - loss: 1.5392 - accuracy: 0.3843 - val_loss: 1.3328 - val_accuracy: 0.5000\n",
            "Epoch 20/100\n",
            "2/2 [==============================] - 0s 38ms/step - loss: 1.5187 - accuracy: 0.4421 - val_loss: 1.3149 - val_accuracy: 0.5000\n",
            "Epoch 21/100\n",
            "2/2 [==============================] - 0s 40ms/step - loss: 1.5207 - accuracy: 0.4815 - val_loss: 1.2979 - val_accuracy: 0.5000\n",
            "Epoch 22/100\n",
            "2/2 [==============================] - 0s 45ms/step - loss: 1.5080 - accuracy: 0.4711 - val_loss: 1.2818 - val_accuracy: 0.5000\n",
            "Epoch 23/100\n",
            "2/2 [==============================] - 0s 46ms/step - loss: 1.4893 - accuracy: 0.4711 - val_loss: 1.2665 - val_accuracy: 0.5000\n",
            "Epoch 24/100\n",
            "2/2 [==============================] - 0s 37ms/step - loss: 1.4701 - accuracy: 0.5000 - val_loss: 1.2521 - val_accuracy: 0.5000\n",
            "Epoch 25/100\n",
            "2/2 [==============================] - 0s 45ms/step - loss: 1.4461 - accuracy: 0.5289 - val_loss: 1.2400 - val_accuracy: 0.5000\n",
            "Epoch 26/100\n",
            "2/2 [==============================] - 0s 39ms/step - loss: 1.4474 - accuracy: 0.5289 - val_loss: 1.2291 - val_accuracy: 0.5000\n",
            "Epoch 27/100\n",
            "2/2 [==============================] - 0s 40ms/step - loss: 1.4231 - accuracy: 0.5289 - val_loss: 1.2170 - val_accuracy: 0.5000\n",
            "Epoch 28/100\n",
            "2/2 [==============================] - 0s 40ms/step - loss: 1.4191 - accuracy: 0.5185 - val_loss: 1.2027 - val_accuracy: 0.5000\n",
            "Epoch 29/100\n",
            "2/2 [==============================] - 0s 37ms/step - loss: 1.4120 - accuracy: 0.4896 - val_loss: 1.1872 - val_accuracy: 0.5000\n",
            "Epoch 30/100\n",
            "2/2 [==============================] - 0s 40ms/step - loss: 1.3796 - accuracy: 0.5000 - val_loss: 1.1744 - val_accuracy: 0.5000\n",
            "Epoch 31/100\n",
            "2/2 [==============================] - 0s 37ms/step - loss: 1.3865 - accuracy: 0.5000 - val_loss: 1.1637 - val_accuracy: 0.5000\n",
            "Epoch 32/100\n",
            "2/2 [==============================] - 0s 40ms/step - loss: 1.3749 - accuracy: 0.5000 - val_loss: 1.1523 - val_accuracy: 0.5000\n",
            "Epoch 33/100\n",
            "2/2 [==============================] - 0s 41ms/step - loss: 1.3593 - accuracy: 0.5000 - val_loss: 1.1388 - val_accuracy: 0.5000\n",
            "Epoch 34/100\n",
            "2/2 [==============================] - 0s 38ms/step - loss: 1.3567 - accuracy: 0.4896 - val_loss: 1.1241 - val_accuracy: 0.5000\n",
            "Epoch 35/100\n",
            "2/2 [==============================] - 0s 38ms/step - loss: 1.3069 - accuracy: 0.5104 - val_loss: 1.1080 - val_accuracy: 0.5000\n",
            "Epoch 36/100\n",
            "2/2 [==============================] - 0s 38ms/step - loss: 1.3186 - accuracy: 0.4711 - val_loss: 1.0925 - val_accuracy: 0.7500\n",
            "Epoch 37/100\n",
            "2/2 [==============================] - 0s 39ms/step - loss: 1.3037 - accuracy: 0.4711 - val_loss: 1.0793 - val_accuracy: 0.7500\n",
            "Epoch 38/100\n",
            "2/2 [==============================] - 0s 49ms/step - loss: 1.2947 - accuracy: 0.4606 - val_loss: 1.0671 - val_accuracy: 0.7500\n",
            "Epoch 39/100\n",
            "2/2 [==============================] - 0s 47ms/step - loss: 1.2938 - accuracy: 0.4606 - val_loss: 1.0565 - val_accuracy: 0.7500\n",
            "Epoch 40/100\n",
            "2/2 [==============================] - 0s 50ms/step - loss: 1.2937 - accuracy: 0.4606 - val_loss: 1.0460 - val_accuracy: 0.7500\n",
            "Epoch 41/100\n",
            "2/2 [==============================] - 0s 44ms/step - loss: 1.2841 - accuracy: 0.4606 - val_loss: 1.0346 - val_accuracy: 0.7500\n",
            "Epoch 42/100\n",
            "2/2 [==============================] - 0s 47ms/step - loss: 1.2765 - accuracy: 0.4317 - val_loss: 1.0226 - val_accuracy: 0.7500\n",
            "Epoch 43/100\n",
            "2/2 [==============================] - 0s 46ms/step - loss: 1.2450 - accuracy: 0.4711 - val_loss: 1.0100 - val_accuracy: 0.7500\n",
            "Epoch 44/100\n",
            "2/2 [==============================] - 0s 46ms/step - loss: 1.2457 - accuracy: 0.5000 - val_loss: 0.9984 - val_accuracy: 0.7500\n",
            "Epoch 45/100\n",
            "2/2 [==============================] - 0s 41ms/step - loss: 1.2197 - accuracy: 0.5208 - val_loss: 0.9873 - val_accuracy: 0.7500\n",
            "Epoch 46/100\n",
            "2/2 [==============================] - 0s 47ms/step - loss: 1.2168 - accuracy: 0.5000 - val_loss: 0.9756 - val_accuracy: 0.7500\n",
            "Epoch 47/100\n",
            "2/2 [==============================] - 0s 40ms/step - loss: 1.2197 - accuracy: 0.5185 - val_loss: 0.9637 - val_accuracy: 0.7500\n",
            "Epoch 48/100\n",
            "2/2 [==============================] - 0s 52ms/step - loss: 1.1838 - accuracy: 0.5289 - val_loss: 0.9523 - val_accuracy: 0.7500\n",
            "Epoch 49/100\n",
            "2/2 [==============================] - 0s 41ms/step - loss: 1.1807 - accuracy: 0.5394 - val_loss: 0.9393 - val_accuracy: 0.7500\n",
            "Epoch 50/100\n",
            "2/2 [==============================] - 0s 42ms/step - loss: 1.1690 - accuracy: 0.5498 - val_loss: 0.9278 - val_accuracy: 0.7500\n",
            "Epoch 51/100\n",
            "2/2 [==============================] - 0s 39ms/step - loss: 1.1640 - accuracy: 0.5104 - val_loss: 0.9187 - val_accuracy: 0.7500\n",
            "Epoch 52/100\n",
            "2/2 [==============================] - 0s 42ms/step - loss: 1.1568 - accuracy: 0.5185 - val_loss: 0.9093 - val_accuracy: 0.7500\n",
            "Epoch 53/100\n",
            "2/2 [==============================] - 0s 44ms/step - loss: 1.1748 - accuracy: 0.5289 - val_loss: 0.9013 - val_accuracy: 0.7500\n",
            "Epoch 54/100\n",
            "2/2 [==============================] - 0s 43ms/step - loss: 1.1844 - accuracy: 0.5081 - val_loss: 0.8939 - val_accuracy: 0.7500\n",
            "Epoch 55/100\n",
            "2/2 [==============================] - 0s 48ms/step - loss: 1.1730 - accuracy: 0.5081 - val_loss: 0.8862 - val_accuracy: 0.7500\n",
            "Epoch 56/100\n",
            "2/2 [==============================] - 0s 44ms/step - loss: 1.1538 - accuracy: 0.4896 - val_loss: 0.8788 - val_accuracy: 0.7500\n",
            "Epoch 57/100\n",
            "2/2 [==============================] - 0s 41ms/step - loss: 1.1415 - accuracy: 0.5289 - val_loss: 0.8727 - val_accuracy: 0.7500\n",
            "Epoch 58/100\n",
            "2/2 [==============================] - 0s 45ms/step - loss: 1.1175 - accuracy: 0.5000 - val_loss: 0.8679 - val_accuracy: 0.7500\n",
            "Epoch 59/100\n",
            "2/2 [==============================] - 0s 40ms/step - loss: 1.1278 - accuracy: 0.4896 - val_loss: 0.8640 - val_accuracy: 0.7500\n",
            "Epoch 60/100\n",
            "2/2 [==============================] - 0s 44ms/step - loss: 1.1374 - accuracy: 0.4896 - val_loss: 0.8611 - val_accuracy: 0.7500\n",
            "Epoch 61/100\n",
            "2/2 [==============================] - 0s 40ms/step - loss: 1.0918 - accuracy: 0.5498 - val_loss: 0.8592 - val_accuracy: 0.7500\n",
            "Epoch 62/100\n",
            "2/2 [==============================] - 0s 45ms/step - loss: 1.1258 - accuracy: 0.5289 - val_loss: 0.8563 - val_accuracy: 0.7500\n",
            "Epoch 63/100\n",
            "2/2 [==============================] - 0s 47ms/step - loss: 1.1209 - accuracy: 0.5000 - val_loss: 0.8515 - val_accuracy: 0.7500\n",
            "Epoch 64/100\n",
            "2/2 [==============================] - 0s 47ms/step - loss: 1.0896 - accuracy: 0.5289 - val_loss: 0.8477 - val_accuracy: 0.7500\n",
            "Epoch 65/100\n",
            "2/2 [==============================] - 0s 49ms/step - loss: 1.1086 - accuracy: 0.4896 - val_loss: 0.8465 - val_accuracy: 0.7500\n",
            "Epoch 66/100\n",
            "2/2 [==============================] - 0s 46ms/step - loss: 1.0919 - accuracy: 0.5104 - val_loss: 0.8466 - val_accuracy: 0.7500\n",
            "Epoch 67/100\n",
            "2/2 [==============================] - 0s 43ms/step - loss: 1.1013 - accuracy: 0.5289 - val_loss: 0.8468 - val_accuracy: 0.7500\n",
            "Epoch 68/100\n",
            "2/2 [==============================] - 0s 41ms/step - loss: 1.0780 - accuracy: 0.5394 - val_loss: 0.8483 - val_accuracy: 0.5000\n",
            "Epoch 69/100\n",
            "2/2 [==============================] - 0s 45ms/step - loss: 1.1091 - accuracy: 0.4896 - val_loss: 0.8502 - val_accuracy: 0.5000\n",
            "Epoch 70/100\n",
            "2/2 [==============================] - 0s 43ms/step - loss: 1.0745 - accuracy: 0.5289 - val_loss: 0.8506 - val_accuracy: 0.5000\n",
            "Epoch 71/100\n",
            "2/2 [==============================] - 0s 38ms/step - loss: 1.0744 - accuracy: 0.5185 - val_loss: 0.8495 - val_accuracy: 0.5000\n",
            "Epoch 72/100\n",
            "2/2 [==============================] - 0s 42ms/step - loss: 1.0501 - accuracy: 0.5683 - val_loss: 0.8483 - val_accuracy: 0.5000\n",
            "Epoch 73/100\n",
            "2/2 [==============================] - 0s 43ms/step - loss: 1.0507 - accuracy: 0.5579 - val_loss: 0.8462 - val_accuracy: 0.5000\n",
            "Epoch 74/100\n",
            "2/2 [==============================] - 0s 53ms/step - loss: 1.0484 - accuracy: 0.5579 - val_loss: 0.8434 - val_accuracy: 0.5000\n",
            "Epoch 75/100\n",
            "2/2 [==============================] - 0s 44ms/step - loss: 1.0588 - accuracy: 0.5579 - val_loss: 0.8419 - val_accuracy: 0.5000\n",
            "Epoch 76/100\n",
            "2/2 [==============================] - 0s 45ms/step - loss: 1.0429 - accuracy: 0.5579 - val_loss: 0.8411 - val_accuracy: 0.5000\n",
            "Epoch 77/100\n",
            "2/2 [==============================] - 0s 42ms/step - loss: 1.0642 - accuracy: 0.5185 - val_loss: 0.8406 - val_accuracy: 0.5000\n",
            "Epoch 78/100\n",
            "2/2 [==============================] - 0s 42ms/step - loss: 1.0621 - accuracy: 0.5289 - val_loss: 0.8416 - val_accuracy: 0.5000\n",
            "Epoch 79/100\n",
            "2/2 [==============================] - 0s 38ms/step - loss: 1.0415 - accuracy: 0.5289 - val_loss: 0.8426 - val_accuracy: 0.5000\n",
            "Epoch 80/100\n",
            "2/2 [==============================] - 0s 46ms/step - loss: 1.0281 - accuracy: 0.5787 - val_loss: 0.8418 - val_accuracy: 0.5000\n",
            "Epoch 81/100\n",
            "2/2 [==============================] - 0s 41ms/step - loss: 1.0506 - accuracy: 0.5475 - val_loss: 0.8385 - val_accuracy: 0.5000\n",
            "Epoch 82/100\n",
            "2/2 [==============================] - 0s 43ms/step - loss: 1.0424 - accuracy: 0.5185 - val_loss: 0.8330 - val_accuracy: 0.5000\n",
            "Epoch 83/100\n",
            "2/2 [==============================] - 0s 46ms/step - loss: 1.0126 - accuracy: 0.5972 - val_loss: 0.8284 - val_accuracy: 0.5000\n",
            "Epoch 84/100\n",
            "2/2 [==============================] - 0s 50ms/step - loss: 1.0517 - accuracy: 0.5660 - val_loss: 0.8249 - val_accuracy: 0.5000\n",
            "Epoch 85/100\n",
            "2/2 [==============================] - 0s 45ms/step - loss: 1.0017 - accuracy: 0.5972 - val_loss: 0.8218 - val_accuracy: 0.7500\n",
            "Epoch 86/100\n",
            "2/2 [==============================] - 0s 40ms/step - loss: 1.0189 - accuracy: 0.6053 - val_loss: 0.8198 - val_accuracy: 0.7500\n",
            "Epoch 87/100\n",
            "2/2 [==============================] - 0s 39ms/step - loss: 1.0101 - accuracy: 0.6157 - val_loss: 0.8184 - val_accuracy: 0.7500\n",
            "Epoch 88/100\n",
            "2/2 [==============================] - 0s 41ms/step - loss: 1.0089 - accuracy: 0.6157 - val_loss: 0.8148 - val_accuracy: 0.7500\n",
            "Epoch 89/100\n",
            "2/2 [==============================] - 0s 39ms/step - loss: 1.0180 - accuracy: 0.6053 - val_loss: 0.8077 - val_accuracy: 0.7500\n",
            "Epoch 90/100\n",
            "2/2 [==============================] - 0s 41ms/step - loss: 1.0202 - accuracy: 0.6157 - val_loss: 0.8015 - val_accuracy: 0.7500\n",
            "Epoch 91/100\n",
            "2/2 [==============================] - 0s 40ms/step - loss: 1.0115 - accuracy: 0.6053 - val_loss: 0.7980 - val_accuracy: 0.7500\n",
            "Epoch 92/100\n",
            "2/2 [==============================] - 0s 45ms/step - loss: 0.9923 - accuracy: 0.6053 - val_loss: 0.7954 - val_accuracy: 0.7500\n",
            "Epoch 93/100\n",
            "2/2 [==============================] - 0s 44ms/step - loss: 0.9909 - accuracy: 0.6157 - val_loss: 0.7924 - val_accuracy: 0.7500\n",
            "Epoch 94/100\n",
            "2/2 [==============================] - 0s 43ms/step - loss: 1.0020 - accuracy: 0.6053 - val_loss: 0.7892 - val_accuracy: 0.7500\n",
            "Epoch 95/100\n",
            "2/2 [==============================] - 0s 41ms/step - loss: 0.9801 - accuracy: 0.6053 - val_loss: 0.7864 - val_accuracy: 0.7500\n",
            "Epoch 96/100\n",
            "2/2 [==============================] - 0s 38ms/step - loss: 1.0093 - accuracy: 0.5949 - val_loss: 0.7831 - val_accuracy: 0.7500\n",
            "Epoch 97/100\n",
            "2/2 [==============================] - 0s 41ms/step - loss: 0.9771 - accuracy: 0.6053 - val_loss: 0.7808 - val_accuracy: 0.7500\n",
            "Epoch 98/100\n",
            "2/2 [==============================] - 0s 48ms/step - loss: 0.9753 - accuracy: 0.6157 - val_loss: 0.7802 - val_accuracy: 0.7500\n",
            "Epoch 99/100\n",
            "2/2 [==============================] - 0s 54ms/step - loss: 0.9733 - accuracy: 0.6157 - val_loss: 0.7779 - val_accuracy: 0.7500\n",
            "Epoch 100/100\n",
            "2/2 [==============================] - 0s 45ms/step - loss: 0.9919 - accuracy: 0.6053 - val_loss: 0.7755 - val_accuracy: 0.7500\n"
          ],
          "name": "stdout"
        }
      ]
    },
    {
      "cell_type": "markdown",
      "metadata": {
        "id": "tUTSUiiugpJj"
      },
      "source": [
        "## GRAFICACIÓN DE RESULTADOS DE ENTRENAMIENTO"
      ]
    },
    {
      "cell_type": "code",
      "metadata": {
        "id": "BkJ4k0ESgxbG",
        "colab": {
          "base_uri": "https://localhost:8080/",
          "height": 743
        },
        "outputId": "0f4f781e-7b62-483b-b1e2-a59c7c41c151"
      },
      "source": [
        "plt.figure(figsize=(16,6))\n",
        "plt.grid()\n",
        "len_epoch = len(history.history['accuracy'])\n",
        "plt.plot(np.arange(0,len_epoch),history.history['accuracy'], label = 'accuracy')\n",
        "plt.plot(np.arange(0,len_epoch),history.history['val_accuracy'],label='val_accuracy')\n",
        "plt.legend()\n",
        "plt.title('Precisión Entrenamiento')\n",
        "plt.savefig(rs + '/04_ann_model/'+'execution_'+aux1+'_ann_results'+'/Precision_Entrenamiento.png')\n",
        "\n",
        "plt.figure(figsize=(16,6))\n",
        "plt.grid()\n",
        "len_epoch = len(history.history['loss'])\n",
        "plt.plot(np.arange(0,len_epoch),history.history['loss'], label = 'loss')\n",
        "plt.plot(np.arange(0,len_epoch),history.history['val_loss'],label='val_loss')\n",
        "plt.legend()\n",
        "plt.title('Pérdida Entrenamiento')\n",
        "plt.savefig(rs + '/04_ann_model/' +'execution_'+aux1+'_ann_results' + '/Perdida_Entrenamiento.png')"
      ],
      "execution_count": 59,
      "outputs": [
        {
          "output_type": "display_data",
          "data": {
            "image/png": "[encoded data removed]",
            "text/plain": [
              "<Figure size 1152x432 with 1 Axes>"
            ]
          },
          "metadata": {
            "tags": [],
            "needs_background": "light"
          }
        },
        {
          "output_type": "display_data",
          "data": {
            "image/png": "[encoded data removed]",
            "text/plain": [
              "<Figure size 1152x432 with 1 Axes>"
            ]
          },
          "metadata": {
            "tags": [],
            "needs_background": "light"
          }
        }
      ]
    },
    {
      "cell_type": "markdown",
      "metadata": {
        "id": "N0-QuR-MqRgM"
      },
      "source": [
        "## EVALUACIÓN DE LA RED NEURONAL CON DATOS DE PRUEBA"
      ]
    },
    {
      "cell_type": "code",
      "metadata": {
        "id": "VTZJcp_NZPUt",
        "colab": {
          "base_uri": "https://localhost:8080/"
        },
        "outputId": "943e5dbd-b0d6-4dae-d0c3-a61facf18485"
      },
      "source": [
        "corp_transf_test  = []\n",
        "\n",
        "for i in x_test:\n",
        "    aux  = [] \n",
        "    for j in i:\n",
        "        aux.append(dict_pal_vec[j])\n",
        "    prom = np.mean(np.array(aux),axis=0)\n",
        "    corp_transf_test.append(list (prom))\n",
        "\n",
        "corp_transf_test_np = np.array(corp_transf_test)\n",
        "\n",
        "model.evaluate(corp_transf_test_np, np.array(y_test,dtype=int) - 1)"
      ],
      "execution_count": 60,
      "outputs": [
        {
          "output_type": "stream",
          "text": [
            "1/1 [==============================] - 0s 15ms/step - loss: 1.2327 - accuracy: 0.4000\n"
          ],
          "name": "stdout"
        },
        {
          "output_type": "execute_result",
          "data": {
            "text/plain": [
              "[1.232702612876892, 0.4000000059604645]"
            ]
          },
          "metadata": {
            "tags": []
          },
          "execution_count": 60
        }
      ]
    },
    {
      "cell_type": "markdown",
      "metadata": {
        "id": "CishXaZpKpIE"
      },
      "source": [
        "Los valores de error y precisión entre el entrenamiento, validación y test son muy similares. Los errores presentan valores bajos y precisiones muy altas superiores al 94% de manera que el clasificador tiene un alto rendimiento."
      ]
    }
  ]
}